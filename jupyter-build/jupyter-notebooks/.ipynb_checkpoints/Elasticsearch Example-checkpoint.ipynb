{
 "cells": [
  {
   "cell_type": "markdown",
   "metadata": {},
   "source": [
    "# Elasticsearch datasource example with Spark 1.5\n",
    "The following notebook shows how to use the elasticsearch datasource connector from pyspark."
   ]
  },
  {
   "cell_type": "code",
   "execution_count": 11,
   "metadata": {
    "collapsed": true
   },
   "outputs": [],
   "source": [
    "from pyspark import SparkConf, SparkContext\n",
    "from pyspark.sql import SQLContext"
   ]
  },
  {
   "cell_type": "code",
   "execution_count": 12,
   "metadata": {
    "collapsed": true
   },
   "outputs": [],
   "source": [
    "sc.stop()"
   ]
  },
  {
   "cell_type": "code",
   "execution_count": 15,
   "metadata": {
    "collapsed": false
   },
   "outputs": [],
   "source": [
    "conf = SparkConf(True).setMaster(\"local[*]\").setAppName(\"juptyer pyspark\").set(\"es.nodes\", \"elasticsearch\")\n",
    "sc = SparkContext(conf=conf)\n",
    "sqlContext = SQLContext(sc)"
   ]
  },
  {
   "cell_type": "code",
   "execution_count": 34,
   "metadata": {
    "collapsed": false
   },
   "outputs": [
    {
     "name": "stdout",
     "output_type": "stream",
     "text": [
      "root\n",
      " |-- account_number: long (nullable = true)\n",
      " |-- address: string (nullable = true)\n",
      " |-- age: long (nullable = true)\n",
      " |-- balance: long (nullable = true)\n",
      " |-- city: string (nullable = true)\n",
      " |-- email: string (nullable = true)\n",
      " |-- employer: string (nullable = true)\n",
      " |-- firstname: string (nullable = true)\n",
      " |-- gender: string (nullable = true)\n",
      " |-- lastname: string (nullable = true)\n",
      " |-- state: string (nullable = true)\n",
      "\n"
     ]
    }
   ],
   "source": [
    "accounts = sqlContext.read.format(\"org.elasticsearch.spark.sql\").load(\"bank/account\")\n",
    "sqlContext.registerDataFrameAsTable(accounts,\"accounts\")\n",
    "accounts.printSchema()"
   ]
  },
  {
   "cell_type": "code",
   "execution_count": 35,
   "metadata": {
    "collapsed": false
   },
   "outputs": [
    {
     "name": "stdout",
     "output_type": "stream",
     "text": [
      "+--------------+---------+---------+-------+\n",
      "|account_number|firstname| lastname|balance|\n",
      "+--------------+---------+---------+-------+\n",
      "|            25| Virginia|    Ayala|  40540|\n",
      "|            44|  Aurelia|  Harding|  34487|\n",
      "|            99|  Ratliff|    Heath|  47159|\n",
      "|           119|  Laverne|  Johnson|  49222|\n",
      "|           126|    Effie|    Gates|   3607|\n",
      "|           145|   Rowena|Wilkinson|  47406|\n",
      "|           183|   Hudson|  English|  14223|\n",
      "|           190|    Blake| Davidson|   3150|\n",
      "|           208|   Garcia|     Hess|  40760|\n",
      "|           222| Rachelle|     Rice|  14764|\n",
      "|           227|  Coleman|     Berg|  19780|\n",
      "|           253|  Melissa|    Gould|  20240|\n",
      "|           260|     Kari|  Skinner|   2726|\n",
      "|           265|   Marion|Schneider|  46910|\n",
      "|           335|     Vera|   Hansen|  35433|\n",
      "|           366|    Lydia|    Cooke|  42368|\n",
      "|           385|Rosalinda| Valencia|  11022|\n",
      "|           397|  Leonard|     Gray|  37418|\n",
      "|           400|     Kane|     King|  20685|\n",
      "|           450| Bradford|  Nielsen|   2643|\n",
      "+--------------+---------+---------+-------+\n",
      "only showing top 20 rows\n",
      "\n"
     ]
    }
   ],
   "source": [
    "sqlContext.sql(\"select account_number, firstname, lastname, balance from accounts\").show()"
   ]
  },
  {
   "cell_type": "code",
   "execution_count": null,
   "metadata": {
    "collapsed": true
   },
   "outputs": [],
   "source": []
  }
 ],
 "metadata": {
  "kernelspec": {
   "display_name": "pySpark (Spark 1.5.1)",
   "language": "python",
   "name": "pyspark"
  },
  "language_info": {
   "codemirror_mode": {
    "name": "ipython",
    "version": 2
   },
   "file_extension": ".py",
   "mimetype": "text/x-python",
   "name": "python",
   "nbconvert_exporter": "python",
   "pygments_lexer": "ipython2",
   "version": "2.7.9"
  }
 },
 "nbformat": 4,
 "nbformat_minor": 0
}

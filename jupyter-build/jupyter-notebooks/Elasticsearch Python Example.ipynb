{
 "cells": [
  {
   "cell_type": "markdown",
   "metadata": {},
   "source": [
    "# Elasticsearch datasource example with Spark 1.5\n",
    "The following notebook shows how to use the elasticsearch datasource connector from pyspark."
   ]
  },
  {
   "cell_type": "code",
   "execution_count": 1,
   "metadata": {
    "collapsed": true
   },
   "outputs": [],
   "source": [
    "from pyspark import SparkConf, SparkContext\n",
    "from pyspark.sql import SQLContext"
   ]
  },
  {
   "cell_type": "code",
   "execution_count": 2,
   "metadata": {
    "collapsed": true
   },
   "outputs": [],
   "source": [
    "sc.stop()"
   ]
  },
  {
   "cell_type": "code",
   "execution_count": 3,
   "metadata": {
    "collapsed": false
   },
   "outputs": [],
   "source": [
    "conf = SparkConf(True).setMaster(\"local[*]\").setAppName(\"juptyer pyspark\").set(\"es.nodes\", \"elasticsearch\")\n",
    "sc = SparkContext(conf=conf)\n",
    "sqlContext = SQLContext(sc)"
   ]
  },
  {
   "cell_type": "code",
   "execution_count": 4,
   "metadata": {
    "collapsed": false
   },
   "outputs": [
    {
     "name": "stdout",
     "output_type": "stream",
     "text": [
      "root\n",
      " |-- account_number: long (nullable = true)\n",
      " |-- address: string (nullable = true)\n",
      " |-- age: long (nullable = true)\n",
      " |-- balance: long (nullable = true)\n",
      " |-- city: string (nullable = true)\n",
      " |-- email: string (nullable = true)\n",
      " |-- employer: string (nullable = true)\n",
      " |-- firstname: string (nullable = true)\n",
      " |-- gender: string (nullable = true)\n",
      " |-- lastname: string (nullable = true)\n",
      " |-- state: string (nullable = true)\n",
      "\n"
     ]
    }
   ],
   "source": [
    "accounts = sqlContext.read.format(\"org.elasticsearch.spark.sql\").load(\"bank/account\")\n",
    "sqlContext.registerDataFrameAsTable(accounts,\"accounts\")\n",
    "accounts.printSchema()"
   ]
  },
  {
   "cell_type": "code",
   "execution_count": 5,
   "metadata": {
    "collapsed": false
   },
   "outputs": [
    {
     "name": "stdout",
     "output_type": "stream",
     "text": [
      "+--------------+---------+--------+-------+\n",
      "|account_number|firstname|lastname|balance|\n",
      "+--------------+---------+--------+-------+\n",
      "|            25| Virginia|   Ayala|  40540|\n",
      "|            44|  Aurelia| Harding|  34487|\n",
      "|            99|  Ratliff|   Heath|  47159|\n",
      "|           119|  Laverne| Johnson|  49222|\n",
      "|           126|    Effie|   Gates|   3607|\n",
      "+--------------+---------+--------+-------+\n",
      "\n"
     ]
    }
   ],
   "source": [
    "sqlContext.sql(\"select account_number, firstname, lastname, balance from accounts limit 5\").show()"
   ]
  },
  {
   "cell_type": "code",
   "execution_count": null,
   "metadata": {
    "collapsed": true
   },
   "outputs": [],
   "source": []
  }
 ],
 "metadata": {
  "kernelspec": {
   "display_name": "pySpark (Spark 1.5)",
   "language": "python",
   "name": "pyspark"
  },
  "language_info": {
   "codemirror_mode": {
    "name": "ipython",
    "version": 2
   },
   "file_extension": ".py",
   "mimetype": "text/x-python",
   "name": "python",
   "nbconvert_exporter": "python",
   "pygments_lexer": "ipython2",
   "version": "2.7.9"
  }
 },
 "nbformat": 4,
 "nbformat_minor": 0
}

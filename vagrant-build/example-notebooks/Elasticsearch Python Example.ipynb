{
 "cells": [
  {
   "cell_type": "markdown",
   "metadata": {},
   "source": [
    "# Elasticsearch datasource example with Spark 1.6\n",
    "The following notebook shows how to use the elasticsearch datasource connector from pyspark."
   ]
  },
  {
   "cell_type": "code",
   "execution_count": 6,
   "metadata": {
    "collapsed": true
   },
   "outputs": [],
   "source": [
    "from pyspark import SparkConf, SparkContext\n",
    "from pyspark.sql import SQLContext"
   ]
  },
  {
   "cell_type": "code",
   "execution_count": 8,
   "metadata": {
    "collapsed": true
   },
   "outputs": [],
   "source": [
    "sc.stop()"
   ]
  },
  {
   "cell_type": "code",
   "execution_count": 9,
   "metadata": {
    "collapsed": false
   },
   "outputs": [],
   "source": [
    "conf = SparkConf(True).setMaster(\"local[*]\").setAppName(\"juptyer pyspark\").set(\"es.nodes\", \"elasticsearch\")\n",
    "sc = SparkContext(conf=conf)\n",
    "sqlContext = SQLContext(sc)"
   ]
  },
  {
   "cell_type": "markdown",
   "metadata": {},
   "source": [
    "### Load some test data into elasticsearch\n",
    "The test data provides a number of bank account documents."
   ]
  },
  {
   "cell_type": "code",
   "execution_count": 23,
   "metadata": {
    "collapsed": false
   },
   "outputs": [
    {
     "data": {
      "text/plain": [
       "2000"
      ]
     },
     "execution_count": 23,
     "metadata": {},
     "output_type": "execute_result"
    }
   ],
   "source": [
    "bank_accounts = sqlContext.read.json(\"accounts.json\")\n",
    "bank_accounts.write.mode(\"overwrite\").format(\"org.elasticsearch.spark.sql\").save(\"bank/account\")\n",
    "bank_accounts.count()"
   ]
  },
  {
   "cell_type": "code",
   "execution_count": 24,
   "metadata": {
    "collapsed": false
   },
   "outputs": [
    {
     "name": "stdout",
     "output_type": "stream",
     "text": [
      "root\n",
      " |-- account_number: long (nullable = true)\n",
      " |-- address: string (nullable = true)\n",
      " |-- age: long (nullable = true)\n",
      " |-- balance: long (nullable = true)\n",
      " |-- city: string (nullable = true)\n",
      " |-- email: string (nullable = true)\n",
      " |-- employer: string (nullable = true)\n",
      " |-- firstname: string (nullable = true)\n",
      " |-- gender: string (nullable = true)\n",
      " |-- index: struct (nullable = true)\n",
      " |    |-- _id: string (nullable = true)\n",
      " |-- lastname: string (nullable = true)\n",
      " |-- state: string (nullable = true)\n",
      "\n"
     ]
    }
   ],
   "source": [
    "accounts = sqlContext.read.format(\"org.elasticsearch.spark.sql\").load(\"bank/account2\")\n",
    "sqlContext.registerDataFrameAsTable(accounts,\"accounts\")\n",
    "accounts.printSchema()"
   ]
  },
  {
   "cell_type": "code",
   "execution_count": 25,
   "metadata": {
    "collapsed": false
   },
   "outputs": [
    {
     "name": "stdout",
     "output_type": "stream",
     "text": [
      "+--------------+---------+--------+-------+\n",
      "|account_number|firstname|lastname|balance|\n",
      "+--------------+---------+--------+-------+\n",
      "|           509|   Durham| Pacheco|  34754|\n",
      "|          null|     null|    null|   null|\n",
      "|           523|   Amalia|Benjamin|  28729|\n",
      "|           535|      Fry|  George|   8715|\n",
      "|          null|     null|    null|   null|\n",
      "+--------------+---------+--------+-------+\n",
      "\n"
     ]
    }
   ],
   "source": [
    "sqlContext.sql(\"select account_number, firstname, lastname, balance from accounts limit 5\").show()"
   ]
  }
 ],
 "metadata": {
  "kernelspec": {
   "display_name": "pySpark (Spark 1.6)",
   "language": "python",
   "name": "pyspark"
  },
  "language_info": {
   "codemirror_mode": {
    "name": "ipython",
    "version": 2
   },
   "file_extension": ".py",
   "mimetype": "text/x-python",
   "name": "python",
   "nbconvert_exporter": "python",
   "pygments_lexer": "ipython2",
   "version": "2.7.9"
  }
 },
 "nbformat": 4,
 "nbformat_minor": 0
}

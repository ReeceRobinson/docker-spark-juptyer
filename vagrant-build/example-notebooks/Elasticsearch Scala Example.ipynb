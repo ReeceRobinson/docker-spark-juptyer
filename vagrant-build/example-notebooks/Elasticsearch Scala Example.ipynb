{
 "cells": [
  {
   "cell_type": "markdown",
   "metadata": {},
   "source": [
    "# Elasticsearch datasource example with Spark 1.6\n",
    "The following notebook shows how to use the elasticsearch datasource connector from Scala."
   ]
  },
  {
   "cell_type": "code",
   "execution_count": 8,
   "metadata": {
    "collapsed": false
   },
   "outputs": [],
   "source": [
    "import org.elasticsearch.spark._\n",
    "import org.apache.spark.{SparkConf, SparkContext}\n",
    "import org.apache.spark.sql.SQLContext"
   ]
  },
  {
   "cell_type": "code",
   "execution_count": 9,
   "metadata": {
    "collapsed": true
   },
   "outputs": [],
   "source": [
    "sc.stop"
   ]
  },
  {
   "cell_type": "code",
   "execution_count": 10,
   "metadata": {
    "collapsed": false
   },
   "outputs": [],
   "source": [
    "val conf = new SparkConf(true).setMaster(\"local[*]\").setAppName(\"Jupyter Scala\").set(\"es.nodes\",\"elasticsearch\")\n",
    "val sc = new SparkContext(conf)\n",
    "val sqlContext = new SQLContext(sc)"
   ]
  },
  {
   "cell_type": "markdown",
   "metadata": {},
   "source": [
    "### Load some test data into elasticsearch\n",
    "The test data provides a number of bank account documents."
   ]
  },
  {
   "cell_type": "code",
   "execution_count": 11,
   "metadata": {
    "collapsed": false
   },
   "outputs": [
    {
     "data": {
      "text/plain": [
       "2000"
      ]
     },
     "execution_count": 11,
     "metadata": {},
     "output_type": "execute_result"
    }
   ],
   "source": [
    "var bank_accounts = sqlContext.read.json(\"accounts.json\")\n",
    "bank_accounts.write.mode(\"overwrite\").format(\"org.elasticsearch.spark.sql\").save(\"bank/account\")\n",
    "bank_accounts.count()"
   ]
  },
  {
   "cell_type": "code",
   "execution_count": 12,
   "metadata": {
    "collapsed": false
   },
   "outputs": [
    {
     "name": "stdout",
     "output_type": "stream",
     "text": [
      "root\n",
      " |-- account_number: long (nullable = true)\n",
      " |-- address: string (nullable = true)\n",
      " |-- age: long (nullable = true)\n",
      " |-- balance: long (nullable = true)\n",
      " |-- city: string (nullable = true)\n",
      " |-- email: string (nullable = true)\n",
      " |-- employer: string (nullable = true)\n",
      " |-- firstname: string (nullable = true)\n",
      " |-- gender: string (nullable = true)\n",
      " |-- index: struct (nullable = true)\n",
      " |    |-- _id: string (nullable = true)\n",
      " |-- lastname: string (nullable = true)\n",
      " |-- state: string (nullable = true)\n",
      "\n",
      "+--------------+--------------------+----+-------+----------+--------------------+---------+---------+------+-----+----------+-----+\n",
      "|account_number|             address| age|balance|      city|               email| employer|firstname|gender|index|  lastname|state|\n",
      "+--------------+--------------------+----+-------+----------+--------------------+---------+---------+------+-----+----------+-----+\n",
      "|          null|                null|null|   null|      null|                null|     null|     null|  null|[511]|      null| null|\n",
      "|          null|                null|null|   null|      null|                null|     null|     null|  null|[516]|      null| null|\n",
      "|           516|   770 Cherry Street|  37|  44940|Carrsville|roysmith@parleyne...|Parleynet|      Roy|     M| null|     Smith|   RI|\n",
      "|           523|  173 Bushwick Place|  40|  28729|   Jacumba|amaliabenjamin@se...|   Sentia|   Amalia|     F| null|  Benjamin|   OK|\n",
      "|          null|                null|null|   null|      null|                null|     null|     null|  null|[535]|      null| null|\n",
      "|           547|  744 Withers Street|  32|  12870|   Chelsea|eatonrios@podunk.com|   Podunk|    Eaton|     M| null|      Rios|   IA|\n",
      "|           566| 349 Winthrop Street|  37|   6183|  Rosewood| coxroman@medcom.com|   Medcom|      Cox|     M| null|     Roman|   WY|\n",
      "|          null|                null|null|   null|      null|                null|     null|     null|  null|[580]|      null| null|\n",
      "|           597|  139 Forbell Street|  33|  11246|  Vallonia|pennyknowles@ersu...|    Ersum|    Penny|     M| null|   Knowles|   IA|\n",
      "|          null|                null|null|   null|      null|                null|     null|     null|  null|[605]|      null| null|\n",
      "|          null|                null|null|   null|      null|                null|     null|     null|  null|[617]|      null| null|\n",
      "|          null|                null|null|   null|      null|                null|     null|     null|  null|[624]|      null| null|\n",
      "|           631|      447 Hunts Lane|  32|  21657|     Wyano|corrinebarber@qua...| Quarmony|  Corrine|     F| null|    Barber|   IL|\n",
      "|          null|                null|null|   null|      null|                null|     null|     null|  null|[636]|      null| null|\n",
      "|          null|                null|null|   null|      null|                null|     null|     null|  null|[643]|      null| null|\n",
      "|           648| 115 Franklin Avenue|  21|  11506|    Bascom|terrymontgomery@e...| Enervate|    Terry|     F| null|Montgomery|   MA|\n",
      "|           667|496 Coleridge Street|  32|  22559|  Wilsonia|julianachase@comt...| Comtract|  Juliana|     M| null|     Chase|   NJ|\n",
      "|          null|                null|null|   null|      null|                null|     null|     null|  null|[686]|      null| null|\n",
      "|           701|     187 Moore Place|  27|  23772|  Coventry|gardnergriffith@v...|  Vertide|  Gardner|     M| null|  Griffith|   NV|\n",
      "|          null|                null|null|   null|      null|                null|     null|     null|  null|[718]|      null| null|\n",
      "+--------------+--------------------+----+-------+----------+--------------------+---------+---------+------+-----+----------+-----+\n",
      "only showing top 20 rows\n",
      "\n"
     ]
    }
   ],
   "source": [
    "val accounts = sqlContext.read.format(\"org.elasticsearch.spark.sql\").load(\"bank/account\")\n",
    "accounts.printSchema\n",
    "accounts.show"
   ]
  }
 ],
 "metadata": {
  "kernelspec": {
   "display_name": "Scala 2.10 (Spark 1.6)",
   "language": "scala",
   "name": "spark"
  },
  "language_info": {
   "name": "scala"
  }
 },
 "nbformat": 4,
 "nbformat_minor": 0
}

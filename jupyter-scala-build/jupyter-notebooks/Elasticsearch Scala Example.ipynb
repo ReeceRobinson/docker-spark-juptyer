{
 "cells": [
  {
   "cell_type": "markdown",
   "metadata": {},
   "source": [
    "# Elasticsearch datasource example with Spark 1.5\n",
    "The following notebook shows how to use the elasticsearch datasource connector from Scala."
   ]
  },
  {
   "cell_type": "code",
   "execution_count": 6,
   "metadata": {
    "collapsed": false
   },
   "outputs": [],
   "source": [
    "import org.elasticsearch.spark._\n",
    "import org.apache.spark.{SparkConf, SparkContext}\n",
    "import org.apache.spark.sql.SQLContext"
   ]
  },
  {
   "cell_type": "code",
   "execution_count": 7,
   "metadata": {
    "collapsed": true
   },
   "outputs": [],
   "source": [
    "sc.stop"
   ]
  },
  {
   "cell_type": "code",
   "execution_count": 8,
   "metadata": {
    "collapsed": false
   },
   "outputs": [],
   "source": [
    "val conf = new SparkConf(true).setMaster(\"local[*]\").setAppName(\"Jupyter Scala\").set(\"es.nodes\",\"elasticsearch\")\n",
    "val sc = new SparkContext(conf)\n",
    "val sqlContext = new SQLContext(sc)"
   ]
  },
  {
   "cell_type": "code",
   "execution_count": 9,
   "metadata": {
    "collapsed": false
   },
   "outputs": [
    {
     "name": "stdout",
     "output_type": "stream",
     "text": [
      "root\n",
      " |-- account_number: long (nullable = true)\n",
      " |-- address: string (nullable = true)\n",
      " |-- age: long (nullable = true)\n",
      " |-- balance: long (nullable = true)\n",
      " |-- city: string (nullable = true)\n",
      " |-- email: string (nullable = true)\n",
      " |-- employer: string (nullable = true)\n",
      " |-- firstname: string (nullable = true)\n",
      " |-- gender: string (nullable = true)\n",
      " |-- lastname: string (nullable = true)\n",
      " |-- state: string (nullable = true)\n",
      "\n",
      "+--------------+--------------------+---+-------+-----------+--------------------+------------+---------+------+---------+-----+\n",
      "|account_number|             address|age|balance|       city|               email|    employer|firstname|gender| lastname|state|\n",
      "+--------------+--------------------+---+-------+-----------+--------------------+------------+---------+------+---------+-----+\n",
      "|            25|   171 Putnam Avenue| 39|  40540|  Nicholson|virginiaayala@fil...|    Filodyne| Virginia|     F|    Ayala|   PA|\n",
      "|            44|502 Baycliff Terrace| 37|  34487|  Yardville|aureliaharding@or...|     Orbalix|  Aurelia|     M|  Harding|   DE|\n",
      "|            99|  806 Rockwell Place| 39|  47159|      Shaft|ratliffheath@zapp...|      Zappix|  Ratliff|     F|    Heath|   ND|\n",
      "|           119|    302 Howard Place| 28|  49222|    Herlong|lavernejohnson@se...|      Senmei|  Laverne|     F|  Johnson|   DC|\n",
      "|           126|  620 National Drive| 39|   3607|   Blodgett|effiegates@digita...|   Digitalus|    Effie|     F|    Gates|   MD|\n",
      "|           145|    891 Elton Street| 32|  47406|     Ripley|rowenawilkinson@a...|   Asimiline|   Rowena|     M|Wilkinson|   NH|\n",
      "|           183|  823 Herkimer Place| 26|  14223|    Robbins|hudsonenglish@xin...|     Xinware|   Hudson|     F|  English|   ND|\n",
      "|           190|  636 Diamond Street| 30|   3150|   Crumpler|blakedavidson@qua...|   Quantasis|    Blake|     F| Davidson|   KY|\n",
      "|           208| 810 Nostrand Avenue| 26|  40760|Brooktrails|garciahess@quilti...|   Quiltigen|   Garcia|     F|     Hess|   GA|\n",
      "|           222|  333 Narrows Avenue| 36|  14764|     Wright|rachellerice@enau...|       Enaut| Rachelle|     M|     Rice|   AZ|\n",
      "|           227|   776 Little Street| 22|  19780| Eagleville|colemanberg@exote...|    Exoteric|  Coleman|     M|     Berg|   WV|\n",
      "|           253|    440 Fuller Place| 31|  20240|  Lumberton|melissagould@buzz...|    Buzzopia|  Melissa|     M|    Gould|   MD|\n",
      "|           260|   735 Losee Terrace| 30|   2726|   Rushford|kariskinner@singa...|   Singavera|     Kari|     F|  Skinner|   WV|\n",
      "|           265|  574 Everett Avenue| 26|  46910|  Maplewood|marionschneider@e...|    Evidends|   Marion|     F|Schneider|   WY|\n",
      "|           335| 252 Bushwick Avenue| 24|  35433|     Manila|verahansen@zanill...|     Zanilla|     Vera|     M|   Hansen|   TN|\n",
      "|           366|  470 Coleman Street| 31|  42368|      Datil|lydiacooke@comsta...|     Comstar|    Lydia|     M|    Cooke|   TN|\n",
      "|           385|    933 Lloyd Street| 22|  11022|    Waverly|rosalindavalencia...|     Zoarere|Rosalinda|     M| Valencia|   GA|\n",
      "|           397|   840 Morgan Avenue| 36|  37418|   Edenburg|leonardgray@recri...|   Recritube|  Leonard|     F|     Gray|   AL|\n",
      "|           400| 405 Cornelia Street| 21|  20685|       Gulf|kaneking@tri@trib...|Tri@Tribalog|     Kane|     F|     King|   VT|\n",
      "|           450|      487 Keen Court| 25|   2643|   Hamilton|bradfordnielsen@e...|     Exovent| Bradford|     M|  Nielsen|   DE|\n",
      "+--------------+--------------------+---+-------+-----------+--------------------+------------+---------+------+---------+-----+\n",
      "only showing top 20 rows\n",
      "\n"
     ]
    }
   ],
   "source": [
    "val accounts = sqlContext.read.format(\"org.elasticsearch.spark.sql\").load(\"bank/account\")\n",
    "accounts.printSchema\n",
    "accounts.show"
   ]
  },
  {
   "cell_type": "code",
   "execution_count": null,
   "metadata": {
    "collapsed": true
   },
   "outputs": [],
   "source": []
  }
 ],
 "metadata": {
  "kernelspec": {
   "display_name": "Spark 1.5 (Scala 2.10.4)",
   "language": "scala",
   "name": "spark"
  },
  "language_info": {
   "name": "scala"
  }
 },
 "nbformat": 4,
 "nbformat_minor": 0
}
